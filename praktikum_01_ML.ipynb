{
  "nbformat": 4,
  "nbformat_minor": 0,
  "metadata": {
    "colab": {
      "name": "praktikum-01_ML.ipynb",
      "provenance": [],
      "authorship_tag": "ABX9TyPrAsfn5Y7CehUPsntuBObn",
      "include_colab_link": true
    },
    "kernelspec": {
      "name": "python3",
      "display_name": "Python 3"
    }
  },
  "cells": [
    {
      "cell_type": "markdown",
      "metadata": {
        "id": "view-in-github",
        "colab_type": "text"
      },
      "source": [
        "<a href=\"https://colab.research.google.com/github/marsani/marsani_asfi/blob/machine-learning/praktikum_01_ML.ipynb\" target=\"_parent\"><img src=\"https://colab.research.google.com/assets/colab-badge.svg\" alt=\"Open In Colab\"/></a>"
      ]
    },
    {
      "cell_type": "code",
      "metadata": {
        "id": "9_d3Yc8KukNk",
        "outputId": "0a400983-ae1b-4f3e-ba6b-0cad76f9581b",
        "colab": {
          "base_uri": "https://localhost:8080/"
        }
      },
      "source": [
        "print('Machine Learning Pertamaku')"
      ],
      "execution_count": 2,
      "outputs": [
        {
          "output_type": "stream",
          "text": [
            "Machine Learning Pertamaku\n"
          ],
          "name": "stdout"
        }
      ]
    }
  ]
}